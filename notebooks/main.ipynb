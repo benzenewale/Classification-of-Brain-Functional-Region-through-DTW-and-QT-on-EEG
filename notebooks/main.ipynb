{
 "cells": [
  {
   "cell_type": "code",
   "execution_count": 1,
   "id": "initial_id",
   "metadata": {
    "collapsed": true,
    "ExecuteTime": {
     "end_time": "2024-12-10T15:33:24.501132900Z",
     "start_time": "2024-12-10T15:33:22.210231600Z"
    }
   },
   "outputs": [],
   "source": [
    "from scipy.io import loadmat\n",
    "import numpy as np\n",
    "import mne\n",
    "from src import preprocess,dtw_similarity,qt_clustering,visualize\n",
    "%matplotlib qt"
   ]
  },
  {
   "cell_type": "markdown",
   "source": [
    "#  Load DEAP dataset"
   ],
   "metadata": {
    "collapsed": false
   },
   "id": "af9f20620630fdf8"
  },
  {
   "cell_type": "code",
   "execution_count": 2,
   "outputs": [],
   "source": [
    "def load_deap_mat(file_path):\n",
    "    \"\"\"\n",
    "    Load a preprocessed DEAP .mat file.\n",
    "\n",
    "    Args:\n",
    "        file_path (str): Path to the .mat file.\n",
    "\n",
    "    Returns:\n",
    "        dict: Dictionary containing EEG data and labels.\n",
    "    \"\"\"\n",
    "    # Load the .mat file\n",
    "    mat_data = loadmat(file_path)\n",
    "    \n",
    "    # Example structure: adjust keys based on your .mat file's content\n",
    "    eeg_data = mat_data['data']  # EEG signals (e.g., channels x time)\n",
    "    labels = mat_data['labels']  # Corresponding labels or metadata\n",
    "\n",
    "    return {'eeg_data': eeg_data, 'labels': labels}"
   ],
   "metadata": {
    "collapsed": false,
    "ExecuteTime": {
     "end_time": "2024-12-10T15:33:29.545763800Z",
     "start_time": "2024-12-10T15:33:29.523544300Z"
    }
   },
   "id": "7f253f4549c5c828"
  },
  {
   "cell_type": "code",
   "execution_count": 3,
   "outputs": [
    {
     "name": "stdout",
     "output_type": "stream",
     "text": [
      "EEG data shape: (32, 256)\n"
     ]
    }
   ],
   "source": [
    "deap_channels = [\n",
    "    \"Fp1\", \"AF3\", \"F3\", \"F7\", \"FC5\", \"FC1\", \"C3\", \"T7\", \"CP5\", \"CP1\",\n",
    "    \"P3\", \"P7\", \"PO3\", \"O1\", \"Oz\", \"Pz\", \"Fp2\", \"AF4\", \"Fz\", \"F4\",\n",
    "    \"F8\", \"FC6\", \"FC2\", \"Cz\", \"C4\", \"T8\", \"CP6\", \"CP2\", \"P4\", \"P8\",\n",
    "    \"PO4\", \"O2\"\n",
    "]\n",
    "\n",
    "file_path = \"../../../Database/DEAP/data_preprocessed_matlab/s01.mat\"\n",
    "data = load_deap_mat(file_path)\n",
    "\n",
    "eeg_data = preprocess.preprocess_eeg_data(data['eeg_data']) #去除前3秒的数据\n",
    "# labels = data['labels']\n",
    "eeg_data = eeg_data[:32,:int(128*2)] #只选取第一次实验前十秒的数据\n",
    "\n",
    "# print(f\"EEG data shape: {eeg_data.shape}\")\n",
    "# print(f\"Labels shape: {labels.shape}\")\n"
   ],
   "metadata": {
    "collapsed": false,
    "ExecuteTime": {
     "end_time": "2024-12-10T15:33:32.071039400Z",
     "start_time": "2024-12-10T15:33:31.325321200Z"
    }
   },
   "id": "a971d26321fbc853"
  },
  {
   "cell_type": "code",
   "execution_count": null,
   "outputs": [],
   "source": [
    "# print(f\"eeg_data[0] shape: {eeg_data[0].shape}\")\n",
    "eeg_dtw_matrix = dtw_similarity.compute_dtw_similarity(eeg_data, 'minmax')\n",
    "labels = qt_clustering.qt_clustering(eeg_dtw_matrix,0.75)\n",
    "# print(f\"labels: {labels}\")"
   ],
   "metadata": {
    "collapsed": false
   },
   "id": "98a087401c6ac1b5"
  },
  {
   "cell_type": "code",
   "execution_count": 5,
   "outputs": [
    {
     "name": "stdout",
     "output_type": "stream",
     "text": [
      "Available channels: ['Fp1', 'Fp2', 'F3', 'F4', 'C3', 'C4', 'P3', 'P4', 'O1', 'O2', 'F7', 'F8', 'T7', 'T8', 'P7', 'P8', 'Fz', 'Cz', 'Pz', 'F1', 'F2', 'FC1', 'FC2', 'C1', 'C2', 'CP1', 'CP2', 'P1', 'P2', 'AF3', 'AF4', 'FC3', 'FC4', 'CP3', 'CP4', 'PO3', 'PO4', 'F5', 'F6', 'FC5', 'FC6', 'C5', 'C6', 'CP5', 'CP6', 'P5', 'P6', 'AF7', 'AF8', 'FT7', 'FT8', 'TP7', 'TP8', 'PO7', 'PO8', 'F9', 'F10', 'FT9', 'FT10', 'TP9', 'TP10', 'P9', 'P10', 'PO9', 'PO10', 'O9', 'O10', 'Fpz', 'AFz', 'FCz', 'CPz', 'POz', 'Oz', 'Iz']\n"
     ]
    }
   ],
   "source": [
    "# Creating channel layouts for standard 10-20 systems\n",
    "montage = mne.channels.make_standard_montage('easycap-M1')\n",
    "\n",
    "# Get Channel Name\n",
    "channel_names = montage.ch_names\n",
    "print(\"Available channels:\", channel_names)\n",
    "\n",
    "# Extract the 3D coordinates of the channel\n",
    "subset_positions = {ch: montage.get_positions()['ch_pos'][ch] for ch in deap_channels if ch in montage.ch_names}\n",
    "\n",
    "# Create a new subset of Montage\n",
    "subset_montage = mne.channels.make_dig_montage(\n",
    "    ch_pos=subset_positions,\n",
    "    coord_frame='head'\n",
    ")\n",
    "\n",
    "# Plotting the original subset of channel layouts\n",
    "# subset_montage.plot()\n",
    "\n",
    "# Setting the zoom ratio (down to 90%)\n",
    "scaling_factor = 0.9\n",
    "\n",
    "# Zoom Channel Position\n",
    "scaled_positions = {ch: pos * scaling_factor for ch, pos in subset_positions.items()}\n",
    "\n",
    "# Creating a scaled subset of Montage\n",
    "scaled_subset_montage = mne.channels.make_dig_montage(\n",
    "    ch_pos=scaled_positions,\n",
    "    coord_frame='head'\n",
    ")\n",
    "\n",
    "# Plotting the scaled subset channel layout\n",
    "# scaled_subset_montage.plot()"
   ],
   "metadata": {
    "collapsed": false,
    "ExecuteTime": {
     "end_time": "2024-12-10T14:37:56.073396Z",
     "start_time": "2024-12-10T14:37:55.946083200Z"
    }
   },
   "id": "cb4a55c571b03abb"
  },
  {
   "cell_type": "markdown",
   "source": [
    "# Visualization"
   ],
   "metadata": {
    "collapsed": false
   },
   "id": "a37e7d1fc836ff17"
  },
  {
   "cell_type": "code",
   "execution_count": 6,
   "outputs": [],
   "source": [
    "# Draw hot map of similarity matrix\n",
    "visualize.plot_similarity_matrix(eeg_dtw_matrix,deap_channels)\n",
    "\n",
    "# Draw the results of classification\n",
    "visualize.plot_clusters(labels,scaled_positions)"
   ],
   "metadata": {
    "collapsed": false,
    "ExecuteTime": {
     "end_time": "2024-12-10T14:37:58.220974300Z",
     "start_time": "2024-12-10T14:37:57.914393400Z"
    }
   },
   "id": "9feef14bd68f96ca"
  }
 ],
 "metadata": {
  "kernelspec": {
   "display_name": "Python 3",
   "language": "python",
   "name": "python3"
  },
  "language_info": {
   "codemirror_mode": {
    "name": "ipython",
    "version": 2
   },
   "file_extension": ".py",
   "mimetype": "text/x-python",
   "name": "python",
   "nbconvert_exporter": "python",
   "pygments_lexer": "ipython2",
   "version": "2.7.6"
  }
 },
 "nbformat": 4,
 "nbformat_minor": 5
}
